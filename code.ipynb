{
 "cells": [
  {
   "cell_type": "code",
   "execution_count": 1,
   "id": "a9c47bf0",
   "metadata": {},
   "outputs": [],
   "source": [
    "import pandas as pd\n",
    "import numpy as np"
   ]
  },
  {
   "cell_type": "code",
   "execution_count": 2,
   "id": "bf5fd19c",
   "metadata": {},
   "outputs": [],
   "source": [
    "netflix_titles_df = pd.read_csv('netflix_titles.csv')\n",
    "netflix_imdb_df = pd.read_csv('netflix-imdb.csv')"
   ]
  },
  {
   "cell_type": "code",
   "execution_count": 3,
   "id": "4965dc7a",
   "metadata": {},
   "outputs": [
    {
     "name": "stdout",
     "output_type": "stream",
     "text": [
      "netflix_titles_df Size : \n",
      "8807\n",
      "netflix_imdb_df Size : \n",
      "15480\n"
     ]
    }
   ],
   "source": [
    "print(\"netflix_titles_df Size : \")\n",
    "print(netflix_titles_df.shape[0])\n",
    "print(\"netflix_imdb_df Size : \")\n",
    "print(netflix_imdb_df.shape[0])"
   ]
  },
  {
   "cell_type": "code",
   "execution_count": 4,
   "id": "0e9dff7b",
   "metadata": {},
   "outputs": [],
   "source": [
    "# netflix_titles_df.head()"
   ]
  },
  {
   "cell_type": "code",
   "execution_count": 5,
   "id": "e95ca053",
   "metadata": {},
   "outputs": [],
   "source": [
    "# netflix_imdb_df.head()"
   ]
  },
  {
   "cell_type": "code",
   "execution_count": 6,
   "id": "a1d492ab",
   "metadata": {},
   "outputs": [],
   "source": [
    "#Cleaning the data\n",
    "netflix_titles_df['director'].fillna('Unknown', inplace=True)\n",
    "netflix_titles_df['cast'].fillna('Unknown', inplace=True)\n",
    "netflix_titles_df['country'].fillna('Unknown', inplace=True)\n",
    "netflix_titles_df['date_added'].fillna('Unknown', inplace=True)\n",
    "netflix_titles_df['rating'].fillna('Unknown', inplace=True)"
   ]
  },
  {
   "cell_type": "code",
   "execution_count": 7,
   "id": "0a072899",
   "metadata": {},
   "outputs": [
    {
     "data": {
      "text/plain": [
       "Movie      6131\n",
       "TV Show    2676\n",
       "Name: type, dtype: int64"
      ]
     },
     "execution_count": 7,
     "metadata": {},
     "output_type": "execute_result"
    }
   ],
   "source": [
    "types = netflix_titles_df['type'].value_counts()\n",
    "types"
   ]
  },
  {
   "cell_type": "code",
   "execution_count": 8,
   "id": "c203dbe9",
   "metadata": {},
   "outputs": [
    {
     "data": {
      "text/plain": [
       "United States                             2818\n",
       "India                                      972\n",
       "Unknown                                    831\n",
       "United Kingdom                             419\n",
       "Japan                                      245\n",
       "                                          ... \n",
       "Romania, Bulgaria, Hungary                   1\n",
       "Uruguay, Guatemala                           1\n",
       "France, Senegal, Belgium                     1\n",
       "Mexico, United States, Spain, Colombia       1\n",
       "United Arab Emirates, Jordan                 1\n",
       "Name: country, Length: 749, dtype: int64"
      ]
     },
     "execution_count": 8,
     "metadata": {},
     "output_type": "execute_result"
    }
   ],
   "source": [
    "country_origin = netflix_titles_df['country'].value_counts()\n",
    "country_origin"
   ]
  },
  {
   "cell_type": "code",
   "execution_count": 9,
   "id": "a9355134",
   "metadata": {},
   "outputs": [],
   "source": [
    "final_df = netflix_titles_df.merge(netflix_imdb_df, on='title', how='inner')"
   ]
  },
  {
   "cell_type": "code",
   "execution_count": 10,
   "id": "045a09a7",
   "metadata": {},
   "outputs": [],
   "source": [
    "# final_df.head()"
   ]
  },
  {
   "cell_type": "code",
   "execution_count": 11,
   "id": "8ddc831c",
   "metadata": {},
   "outputs": [
    {
     "name": "stdout",
     "output_type": "stream",
     "text": [
      "Number of rows in final_merged_df: 6094\n"
     ]
    }
   ],
   "source": [
    "#droping redundant columns\n",
    "columns_to_drop = [\"Netflix Release Date\", \"Series or Movie\", \"Director\", \"Actors\", \"View Rating\", \"Rotten Tomatoes Score\", \"Metacritic Score\", \"Release Date\", \"Summary\"] \n",
    "\n",
    "final_df = final_df.drop(columns=columns_to_drop)\n",
    "final_df.to_csv('final_df.csv', index=False)\n",
    "num_rows = final_df.shape[0]\n",
    "print(\"Number of rows in final_merged_df:\", num_rows)"
   ]
  },
  {
   "cell_type": "code",
   "execution_count": null,
   "id": "b12bb595",
   "metadata": {},
   "outputs": [],
   "source": []
  },
  {
   "cell_type": "code",
   "execution_count": null,
   "id": "d90a1615",
   "metadata": {},
   "outputs": [],
   "source": []
  },
  {
   "cell_type": "code",
   "execution_count": null,
   "id": "94c7a2f6",
   "metadata": {},
   "outputs": [],
   "source": [
    "# Start Visualisations here "
   ]
  }
 ],
 "metadata": {
  "kernelspec": {
   "display_name": "Python 3 (ipykernel)",
   "language": "python",
   "name": "python3"
  },
  "language_info": {
   "codemirror_mode": {
    "name": "ipython",
    "version": 3
   },
   "file_extension": ".py",
   "mimetype": "text/x-python",
   "name": "python",
   "nbconvert_exporter": "python",
   "pygments_lexer": "ipython3",
   "version": "3.11.5"
  }
 },
 "nbformat": 4,
 "nbformat_minor": 5
}
